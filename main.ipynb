{
 "cells": [
  {
   "cell_type": "code",
   "execution_count": 48,
   "metadata": {},
   "outputs": [],
   "source": [
    "import pandas as pd\n",
    "from math import sqrt\n",
    "import numpy as np"
   ]
  },
  {
   "cell_type": "code",
   "execution_count": 49,
   "metadata": {},
   "outputs": [
    {
     "name": "stdout",
     "output_type": "stream",
     "text": [
      "<class 'pandas.core.frame.DataFrame'>\n",
      "RangeIndex: 9742 entries, 0 to 9741\n",
      "Data columns (total 3 columns):\n",
      " #   Column   Non-Null Count  Dtype \n",
      "---  ------   --------------  ----- \n",
      " 0   movieId  9742 non-null   int64 \n",
      " 1   title    9742 non-null   object\n",
      " 2   genres   9742 non-null   object\n",
      "dtypes: int64(1), object(2)\n",
      "memory usage: 228.5+ KB\n",
      "None\n",
      "<class 'pandas.core.frame.DataFrame'>\n",
      "RangeIndex: 100836 entries, 0 to 100835\n",
      "Data columns (total 4 columns):\n",
      " #   Column     Non-Null Count   Dtype  \n",
      "---  ------     --------------   -----  \n",
      " 0   userId     100836 non-null  int64  \n",
      " 1   movieId    100836 non-null  int64  \n",
      " 2   rating     100836 non-null  float64\n",
      " 3   timestamp  100836 non-null  int64  \n",
      "dtypes: float64(1), int64(3)\n",
      "memory usage: 3.1 MB\n",
      "None\n"
     ]
    }
   ],
   "source": [
    "movies_df = pd.read_csv('movies.csv')\n",
    "ratings_df = pd.read_csv('ratings.csv')\n",
    "print(movies_df.info())\n",
    "print(ratings_df.info())"
   ]
  },
  {
   "cell_type": "code",
   "execution_count": 50,
   "metadata": {},
   "outputs": [
    {
     "name": "stdout",
     "output_type": "stream",
     "text": [
      "                                 title  rating\n",
      "0  Andrew Dice Clay: Dice Rules (1991)     5.0\n",
      "1                     Toy Story (1995)     3.5\n",
      "2                       Jumanji (1995)     4.5\n",
      "3         No Game No Life: Zero (2017)     5.0\n",
      "4  Bungo Stray Dogs: Dead Apple (2018)     4.5\n"
     ]
    }
   ],
   "source": [
    "userInput = [{'title':'Andrew Dice Clay: Dice Rules (1991)','rating':5},\n",
    "             {'title':'Toy Story (1995)', 'rating':3.5},\n",
    "             {'title':'Jumanji (1995)', 'rating':4.5},\n",
    "             {'title':'No Game No Life: Zero (2017)', 'rating':5},\n",
    "             {'title':'Bungo Stray Dogs: Dead Apple (2018)', 'rating':4.5}\n",
    "            ]\n",
    "inputMovies = pd.DataFrame(userInput)\n",
    "print(inputMovies)"
   ]
  },
  {
   "cell_type": "code",
   "execution_count": 51,
   "metadata": {},
   "outputs": [
    {
     "name": "stdout",
     "output_type": "stream",
     "text": [
      "   movieId                                title  rating\n",
      "0        1                     Toy Story (1995)     3.5\n",
      "1        2                       Jumanji (1995)     4.5\n",
      "2   193583         No Game No Life: Zero (2017)     5.0\n",
      "3   193587  Bungo Stray Dogs: Dead Apple (2018)     4.5\n",
      "4   193609  Andrew Dice Clay: Dice Rules (1991)     5.0\n"
     ]
    }
   ],
   "source": [
    "\n",
    "inputId = movies_df[movies_df['title'].isin(inputMovies['title'].tolist())]\n",
    "inputMovies = pd.merge(inputId, inputMovies)\n",
    "inputMovies = inputMovies[['movieId','title','rating']]\n",
    "print(inputMovies)"
   ]
  },
  {
   "cell_type": "code",
   "execution_count": 52,
   "metadata": {},
   "outputs": [
    {
     "name": "stdout",
     "output_type": "stream",
     "text": [
      "         userId  rating  timestamp\n",
      "movieId                           \n",
      "1           215     215        215\n",
      "2           110     110        110\n",
      "193583        1       1          1\n",
      "193587        1       1          1\n",
      "193609        1       1          1\n"
     ]
    }
   ],
   "source": [
    "userSubset = ratings_df[ratings_df['movieId'].isin(inputMovies['movieId'].tolist())]\n",
    "print(userSubset.groupby('movieId').count())"
   ]
  },
  {
   "cell_type": "code",
   "execution_count": 53,
   "metadata": {},
   "outputs": [
    {
     "name": "stdout",
     "output_type": "stream",
     "text": [
      "[((18,),       userId  movieId  rating   timestamp\n",
      "1772      18        1     3.5  1455209816\n",
      "1773      18        2     3.0  1455617462), ((19,),       userId  movieId  rating  timestamp\n",
      "2274      19        1     4.0  965705637\n",
      "2275      19        2     3.0  965704331), ((21,),       userId  movieId  rating   timestamp\n",
      "3219      21        1     3.5  1407618878\n",
      "3220      21        2     3.5  1419795031), ((27,),       userId  movieId  rating  timestamp\n",
      "4059      27        1     3.0  962685262\n",
      "4060      27        2     4.0  962685711), ((68,),        userId  movieId  rating   timestamp\n",
      "10360      68        1     2.5  1158531426\n",
      "10361      68        2     2.5  1158532776)]\n"
     ]
    }
   ],
   "source": [
    "userSubsetGroup = userSubset.groupby(['userId'])\n",
    "\n",
    "def take_5_elem(x):\n",
    "    # print (len(x[1]))\n",
    "    return len(x[1])\n",
    "    \n",
    "\n",
    "userSubsetGroup = sorted(userSubsetGroup, key=take_5_elem, reverse=True)\n",
    "\n",
    "userSubsetGroup = userSubsetGroup[0:100]\n",
    "print(userSubsetGroup[0:5])"
   ]
  },
  {
   "cell_type": "code",
   "execution_count": 54,
   "metadata": {},
   "outputs": [
    {
     "data": {
      "text/plain": [
       "[((18,),\n",
       "        userId  movieId  rating   timestamp\n",
       "  1772      18        1     3.5  1455209816\n",
       "  1773      18        2     3.0  1455617462),\n",
       " ((19,),\n",
       "        userId  movieId  rating  timestamp\n",
       "  2274      19        1     4.0  965705637\n",
       "  2275      19        2     3.0  965704331),\n",
       " ((21,),\n",
       "        userId  movieId  rating   timestamp\n",
       "  3219      21        1     3.5  1407618878\n",
       "  3220      21        2     3.5  1419795031),\n",
       " ((27,),\n",
       "        userId  movieId  rating  timestamp\n",
       "  4059      27        1     3.0  962685262\n",
       "  4060      27        2     4.0  962685711),\n",
       " ((68,),\n",
       "         userId  movieId  rating   timestamp\n",
       "  10360      68        1     2.5  1158531426\n",
       "  10361      68        2     2.5  1158532776),\n",
       " ((82,),\n",
       "         userId  movieId  rating   timestamp\n",
       "  12730      82        1     2.5  1084467729\n",
       "  12731      82        2     3.0  1084465035),\n",
       " ((91,),\n",
       "         userId  movieId  rating   timestamp\n",
       "  14121      91        1     4.0  1112713037\n",
       "  14122      91        2     3.0  1112713392),\n",
       " ((93,),\n",
       "         userId  movieId  rating  timestamp\n",
       "  14720      93        1     3.0  942767337\n",
       "  14721      93        2     5.0  942946208),\n",
       " ((103,),\n",
       "         userId  movieId  rating   timestamp\n",
       "  15565     103        1     4.0  1431954238\n",
       "  15566     103        2     4.0  1431957270),\n",
       " ((107,),\n",
       "         userId  movieId  rating  timestamp\n",
       "  16970     107        1     4.0  829322340\n",
       "  16971     107        2     5.0  829322340),\n",
       " ((112,),\n",
       "         userId  movieId  rating   timestamp\n",
       "  17904     112        1     3.0  1442535639\n",
       "  17905     112        2     1.5  1513989948),\n",
       " ((135,),\n",
       "         userId  movieId  rating   timestamp\n",
       "  20336     135        1     4.0  1009691859\n",
       "  20337     135        2     3.0  1009692764),\n",
       " ((140,),\n",
       "         userId  movieId  rating   timestamp\n",
       "  21083     140        1     3.0   942924980\n",
       "  21084     140        2     3.5  1085569813),\n",
       " ((144,),\n",
       "         userId  movieId  rating   timestamp\n",
       "  21968     144        1     3.5  1137323419\n",
       "  21969     144        2     3.0  1137323803),\n",
       " ((153,),\n",
       "         userId  movieId  rating   timestamp\n",
       "  22425     153        1     2.0  1525548642\n",
       "  22426     153        2     2.0  1525550601),\n",
       " ((160,),\n",
       "         userId  movieId  rating  timestamp\n",
       "  23226     160        1     4.0  971115026\n",
       "  23227     160        2     4.0  971619578),\n",
       " ((169,),\n",
       "         userId  movieId  rating   timestamp\n",
       "  24321     169        1     4.5  1059427918\n",
       "  24322     169        2     4.0  1078284713),\n",
       " ((177,),\n",
       "         userId  movieId  rating   timestamp\n",
       "  24900     177        1     5.0  1435533535\n",
       "  24901     177        2     3.5  1435534109),\n",
       " ((184,),\n",
       "         userId  movieId  rating   timestamp\n",
       "  27257     184   193583     3.5  1537109545\n",
       "  27259     184   193587     3.5  1537110021),\n",
       " ((186,),\n",
       "         userId  movieId  rating   timestamp\n",
       "  27307     186        1     4.0  1031080831\n",
       "  27308     186        2     4.0  1031087675),\n",
       " ((202,),\n",
       "         userId  movieId  rating  timestamp\n",
       "  29378     202        1     4.0  974923506\n",
       "  29379     202        2     4.0  974923336),\n",
       " ((217,),\n",
       "         userId  movieId  rating  timestamp\n",
       "  30885     217        1     4.0  955942540\n",
       "  30886     217        2     2.0  955942327),\n",
       " ((219,),\n",
       "         userId  movieId  rating   timestamp\n",
       "  31524     219        1     3.5  1194681084\n",
       "  31525     219        2     2.5  1194740185),\n",
       " ((226,),\n",
       "         userId  movieId  rating   timestamp\n",
       "  33044     226        1     3.5  1095662606\n",
       "  33045     226        2     3.0  1095662788),\n",
       " ((232,),\n",
       "         userId  movieId  rating   timestamp\n",
       "  33898     232        1     3.5  1076955621\n",
       "  33899     232        2     4.0  1085351710),\n",
       " ((240,),\n",
       "         userId  movieId  rating  timestamp\n",
       "  35580     240        1     5.0  849122434\n",
       "  35581     240        2     5.0  849122404),\n",
       " ((249,),\n",
       "         userId  movieId  rating   timestamp\n",
       "  36374     249        1     4.0  1347317775\n",
       "  36375     249        2     4.0  1353800871),\n",
       " ((274,),\n",
       "         userId  movieId  rating   timestamp\n",
       "  39229     274        1     4.0  1171410158\n",
       "  39230     274        2     3.5  1171934785),\n",
       " ((276,),\n",
       "         userId  movieId  rating  timestamp\n",
       "  40978     276        1     4.0  858350384\n",
       "  40979     276        2     4.0  858351189),\n",
       " ((288,),\n",
       "         userId  movieId  rating   timestamp\n",
       "  42114     288        1     4.5  1054568869\n",
       "  42115     288        2     2.0   978467973),\n",
       " ((298,),\n",
       "         userId  movieId  rating   timestamp\n",
       "  44535     298        1     2.0  1447518257\n",
       "  44536     298        2     0.5  1450452897),\n",
       " ((304,),\n",
       "         userId  movieId  rating  timestamp\n",
       "  45728     304        1     5.0  881428344\n",
       "  45729     304        2     4.0  891173962),\n",
       " ((307,),\n",
       "         userId  movieId  rating   timestamp\n",
       "  46733     307        1     4.0  1186160893\n",
       "  46734     307        2     2.5  1186161482),\n",
       " ((322,),\n",
       "         userId  movieId  rating   timestamp\n",
       "  49974     322        1     3.5  1217676206\n",
       "  49975     322        2     3.0  1217676495),\n",
       " ((323,),\n",
       "         userId  movieId  rating   timestamp\n",
       "  50081     323        1     3.5  1422640363\n",
       "  50082     323        2     4.0  1422640110),\n",
       " ((330,),\n",
       "         userId  movieId  rating   timestamp\n",
       "  50948     330        1     4.0  1285904910\n",
       "  50949     330        2     1.5  1285905277),\n",
       " ((347,),\n",
       "         userId  movieId  rating  timestamp\n",
       "  52880     347        1     5.0  847645986\n",
       "  52881     347        2     3.0  847645925),\n",
       " ((353,),\n",
       "         userId  movieId  rating  timestamp\n",
       "  53492     353        1     5.0  831939685\n",
       "  53493     353        2     4.0  831939875),\n",
       " ((357,),\n",
       "         userId  movieId  rating   timestamp\n",
       "  54123     357        1     5.0  1348610184\n",
       "  54124     357        2     3.0  1348611277),\n",
       " ((359,),\n",
       "         userId  movieId  rating   timestamp\n",
       "  54547     359        1     4.0  1198112023\n",
       "  54548     359        2     3.5  1198112829),\n",
       " ((373,),\n",
       "         userId  movieId  rating  timestamp\n",
       "  56364     373        1     3.0  846830172\n",
       "  56365     373        2     3.0  846830111),\n",
       " ((380,),\n",
       "         userId  movieId  rating   timestamp\n",
       "  56878     380        1     5.0  1493420345\n",
       "  56879     380        2     5.0  1493420295),\n",
       " ((381,),\n",
       "         userId  movieId  rating   timestamp\n",
       "  58096     381        1     3.5  1164383653\n",
       "  58097     381        2     4.0  1166971855),\n",
       " ((411,),\n",
       "         userId  movieId  rating  timestamp\n",
       "  62009     411        1     5.0  835532155\n",
       "  62010     411        2     4.0  835532398),\n",
       " ((414,),\n",
       "         userId  movieId  rating  timestamp\n",
       "  62294     414        1     4.0  961438127\n",
       "  62295     414        2     3.0  961594981),\n",
       " ((432,),\n",
       "         userId  movieId  rating   timestamp\n",
       "  66798     432        1     2.5  1316391457\n",
       "  66799     432        2     4.0  1316391739),\n",
       " ((434,),\n",
       "         userId  movieId  rating   timestamp\n",
       "  67080     434        1     4.0  1270604402\n",
       "  67081     434        2     2.5  1271039378),\n",
       " ((436,),\n",
       "         userId  movieId  rating  timestamp\n",
       "  67355     436        1     4.0  833529571\n",
       "  67356     436        2     4.0  833529751),\n",
       " ((448,),\n",
       "         userId  movieId  rating   timestamp\n",
       "  68655     448        1     5.0  1019126661\n",
       "  68656     448        2     3.0  1019125424),\n",
       " ((470,),\n",
       "         userId  movieId  rating  timestamp\n",
       "  72918     470        1     4.0  849224825\n",
       "  72919     470        2     3.0  849224778),\n",
       " ((474,),\n",
       "         userId  movieId  rating   timestamp\n",
       "  73092     474        1     4.0   978575760\n",
       "  73093     474        2     3.0  1046886814),\n",
       " ((476,),\n",
       "         userId  movieId  rating  timestamp\n",
       "  75355     476        1     4.0  835021447\n",
       "  75356     476        2     4.0  835021693),\n",
       " ((477,),\n",
       "         userId  movieId  rating   timestamp\n",
       "  75424     477        1     4.0  1200939636\n",
       "  75425     477        2     4.0  1200939962),\n",
       " ((480,),\n",
       "         userId  movieId  rating   timestamp\n",
       "  76227     480        1     3.0  1179178004\n",
       "  76228     480        2     3.0  1179178191),\n",
       " ((483,),\n",
       "         userId  movieId  rating   timestamp\n",
       "  77222     483        1     4.0  1178293130\n",
       "  77223     483        2     4.0  1178293652),\n",
       " ((484,),\n",
       "         userId  movieId  rating   timestamp\n",
       "  77950     484        1     4.5  1342295949\n",
       "  77951     484        2     2.5  1342296219),\n",
       " ((517,),\n",
       "         userId  movieId  rating   timestamp\n",
       "  81531     517        1     4.0  1487954343\n",
       "  81532     517        2     3.0  1487954340),\n",
       " ((525,),\n",
       "         userId  movieId  rating   timestamp\n",
       "  82613     525        1     4.0  1476475973\n",
       "  82614     525        2     3.5  1476480324),\n",
       " ((534,),\n",
       "         userId  movieId  rating   timestamp\n",
       "  83573     534        1     4.0  1459787997\n",
       "  83574     534        2     4.5  1459787996),\n",
       " ((559,),\n",
       "         userId  movieId  rating  timestamp\n",
       "  85984     559        1     5.0  865095758\n",
       "  85985     559        2     4.0  845476032),\n",
       " ((561,),\n",
       "         userId  movieId  rating   timestamp\n",
       "  86582     561        1     4.0  1491094681\n",
       "  86583     561        2     4.0  1491094318),\n",
       " ((570,),\n",
       "         userId  movieId  rating   timestamp\n",
       "  88219     570        1     4.0  1181476989\n",
       "  88220     570        2     3.5  1181477805),\n",
       " ((573,),\n",
       "         userId  movieId  rating   timestamp\n",
       "  88677     573        1     5.0  1186722182\n",
       "  88678     573        2     4.5  1187044862),\n",
       " ((590,),\n",
       "         userId  movieId  rating   timestamp\n",
       "  90517     590        1     4.0  1258420408\n",
       "  90518     590        2     2.5  1258420835),\n",
       " ((599,),\n",
       "         userId  movieId  rating   timestamp\n",
       "  92623     599        1     3.0  1498524204\n",
       "  92624     599        2     2.5  1498514085),\n",
       " ((600,),\n",
       "         userId  movieId  rating   timestamp\n",
       "  95101     600        1     2.5  1237764347\n",
       "  95102     600        2     4.0  1237764627),\n",
       " ((604,),\n",
       "         userId  movieId  rating  timestamp\n",
       "  97043     604        1     3.0  832079851\n",
       "  97044     604        2     5.0  832080293),\n",
       " ((605,),\n",
       "         userId  movieId  rating   timestamp\n",
       "  97143     605        1     4.0  1277097561\n",
       "  97144     605        2     3.5  1277176522),\n",
       " ((608,),\n",
       "         userId  movieId  rating   timestamp\n",
       "  98666     608        1     2.5  1117408267\n",
       "  98667     608        2     2.0  1117490786),\n",
       " ((1,),\n",
       "     userId  movieId  rating  timestamp\n",
       "  0       1        1     4.0  964982703),\n",
       " ((5,),\n",
       "       userId  movieId  rating  timestamp\n",
       "  516       5        1     4.0  847434962),\n",
       " ((6,),\n",
       "       userId  movieId  rating  timestamp\n",
       "  560       6        2     4.0  845553522),\n",
       " ((7,),\n",
       "       userId  movieId  rating   timestamp\n",
       "  874       7        1     4.5  1106635946),\n",
       " ((8,),\n",
       "        userId  movieId  rating  timestamp\n",
       "  1026       8        2     4.0  839463806),\n",
       " ((15,),\n",
       "        userId  movieId  rating   timestamp\n",
       "  1434      15        1     2.5  1510577970),\n",
       " ((17,),\n",
       "        userId  movieId  rating   timestamp\n",
       "  1667      17        1     4.5  1305696483),\n",
       " ((20,),\n",
       "        userId  movieId  rating   timestamp\n",
       "  2977      20        2     3.0  1054038313),\n",
       " ((31,),\n",
       "        userId  movieId  rating  timestamp\n",
       "  4879      31        1     5.0  850466616),\n",
       " ((32,),\n",
       "        userId  movieId  rating  timestamp\n",
       "  4929      32        1     3.0  856736119),\n",
       " ((33,),\n",
       "        userId  movieId  rating  timestamp\n",
       "  5031      33        1     3.0  939647444),\n",
       " ((40,),\n",
       "        userId  movieId  rating  timestamp\n",
       "  5555      40        1     5.0  832058959),\n",
       " ((43,),\n",
       "        userId  movieId  rating  timestamp\n",
       "  6315      43        1     5.0  848993983),\n",
       " ((44,),\n",
       "        userId  movieId  rating  timestamp\n",
       "  6429      44        1     3.0  869251860),\n",
       " ((45,),\n",
       "        userId  movieId  rating  timestamp\n",
       "  6477      45        1     4.0  951170182),\n",
       " ((46,),\n",
       "        userId  movieId  rating  timestamp\n",
       "  6876      46        1     5.0  834787906),\n",
       " ((50,),\n",
       "        userId  movieId  rating   timestamp\n",
       "  7112      50        1     3.0  1514238116),\n",
       " ((51,),\n",
       "        userId  movieId  rating   timestamp\n",
       "  7422      51        2     4.5  1230932741),\n",
       " ((54,),\n",
       "        userId  movieId  rating  timestamp\n",
       "  7931      54        1     3.0  830247330),\n",
       " ((57,),\n",
       "        userId  movieId  rating  timestamp\n",
       "  8035      57        1     5.0  965796031),\n",
       " ((62,),\n",
       "        userId  movieId  rating   timestamp\n",
       "  8791      62        2     4.0  1528843890),\n",
       " ((63,),\n",
       "        userId  movieId  rating   timestamp\n",
       "  9157      63        1     5.0  1443199669),\n",
       " ((64,),\n",
       "        userId  movieId  rating   timestamp\n",
       "  9428      64        1     4.0  1161520134),\n",
       " ((66,),\n",
       "        userId  movieId  rating   timestamp\n",
       "  9979      66        1     4.0  1104643957),\n",
       " ((71,),\n",
       "         userId  movieId  rating  timestamp\n",
       "  11728      71        1     5.0  864737933),\n",
       " ((73,),\n",
       "         userId  movieId  rating   timestamp\n",
       "  11808      73        1     4.5  1464196374),\n",
       " ((76,),\n",
       "         userId  movieId  rating   timestamp\n",
       "  12264      76        1     0.5  1439165548),\n",
       " ((78,),\n",
       "         userId  movieId  rating   timestamp\n",
       "  12412      78        1     4.0  1252575124),\n",
       " ((86,),\n",
       "         userId  movieId  rating   timestamp\n",
       "  13402      86        1     4.0  1344082549),\n",
       " ((89,),\n",
       "         userId  movieId  rating   timestamp\n",
       "  13549      89        1     3.0  1520408314),\n",
       " ((90,),\n",
       "         userId  movieId  rating  timestamp\n",
       "  14067      90        1     3.0  856353996)]"
      ]
     },
     "execution_count": 54,
     "metadata": {},
     "output_type": "execute_result"
    }
   ],
   "source": [
    "userSubsetGroup"
   ]
  },
  {
   "cell_type": "code",
   "execution_count": 55,
   "metadata": {},
   "outputs": [],
   "source": [
    "#Store the Pearson Correlation in a dictionary, where the key is the user Id and the value is the coefficient\n",
    "pearsonCorrelationDict = {}\n",
    "\n",
    "#For every user group in our subset\n",
    "for name, group in userSubsetGroup:\n",
    "\n",
    "    #Let's start by sorting the input and current user group so the values aren't mixed up later on\n",
    "    group = group.sort_values(by='movieId')\n",
    "    inputMovies = inputMovies.sort_values(by='movieId')\n",
    "\n",
    "    #Get the N for the formula\n",
    "    nRatings = len(group)\n",
    "\n",
    "    #Get the review scores for the movies that they both have in common\n",
    "    temp_df = inputMovies[inputMovies['movieId'].isin(group['movieId'].tolist())]\n",
    "\n",
    "    #And then store them in a temporary buffer variable in a list format to facilitate future calculations\n",
    "    tempRatingList = temp_df['rating'].tolist()\n",
    "   \n",
    "    #Let's also put the current user group reviews in a list format\n",
    "    tempGroupList = group['rating'].tolist()\n",
    "   \n",
    "    \n",
    "    #Now let's calculate the pearson correlation between two users, so called, x and y manually (check the formula from week 7 slide)\n",
    "    Sxx = sum([i**2 for i in tempRatingList]) - pow(sum(tempRatingList),2)/float(nRatings)\n",
    "    Syy = sum([i**2 for i in tempGroupList]) - pow(sum(tempGroupList),2)/float(nRatings)\n",
    "    Sxy = sum( i*j for i, j in zip(tempRatingList, tempGroupList)) - sum(tempRatingList)*sum(tempGroupList)/float(nRatings)\n",
    "\n",
    "    #If the denominator is different than zero, then divide, else, 0 correlation.\n",
    "    if Sxx != 0 and Syy != 0:\n",
    "        pearsonCorrelationDict[name] = Sxy/sqrt(Sxx*Syy)\n",
    "    else:\n",
    "        pearsonCorrelationDict[name] = 0"
   ]
  },
  {
   "cell_type": "code",
   "execution_count": 56,
   "metadata": {},
   "outputs": [
    {
     "name": "stdout",
     "output_type": "stream",
     "text": [
      "{(18,): -1.0, (19,): -1.0, (21,): 0, (27,): 1.0, (68,): 0, (82,): 1.0, (91,): -1.0, (93,): 1.0, (103,): 0, (107,): 1.0, (112,): -1.0, (135,): -1.0, (140,): 1.0, (144,): -1.0, (153,): 0, (160,): 0, (169,): -1.0, (177,): -1.0, (184,): 0, (186,): 0, (202,): 0, (217,): -1.0, (219,): -1.0, (226,): -1.0, (232,): 1.0, (240,): 0, (249,): 0, (274,): -1.0, (276,): 0, (288,): -1.0, (298,): -1.0, (304,): -1.0, (307,): -1.0, (322,): -1.0, (323,): 1.0, (330,): -1.0, (347,): -1.0, (353,): -1.0, (357,): -1.0, (359,): -1.0, (373,): 0, (380,): 0, (381,): 1.0, (411,): -1.0, (414,): -1.0, (432,): 1.0, (434,): -1.0, (436,): 0, (448,): -1.0, (470,): -1.0, (474,): -1.0, (476,): 0, (477,): 0, (480,): 0, (483,): 0, (484,): -1.0, (517,): -1.0, (525,): -1.0, (534,): 1.0, (559,): -1.0, (561,): 0, (570,): -1.0, (573,): -1.0, (590,): -1.0, (599,): -1.0, (600,): 1.0, (604,): 1.0, (605,): -1.0, (608,): -1.0, (1,): 0, (5,): 0, (6,): 0, (7,): 0, (8,): 0, (15,): 0, (17,): 0, (20,): 0, (31,): 0, (32,): 0, (33,): 0, (40,): 0, (43,): 0, (44,): 0, (45,): 0, (46,): 0, (50,): 0, (51,): 0, (54,): 0, (57,): 0, (62,): 0, (63,): 0, (64,): 0, (66,): 0, (71,): 0, (73,): 0, (76,): 0, (78,): 0, (86,): 0, (89,): 0, (90,): 0}\n"
     ]
    }
   ],
   "source": [
    "print(pearsonCorrelationDict)"
   ]
  },
  {
   "cell_type": "code",
   "execution_count": 57,
   "metadata": {},
   "outputs": [
    {
     "name": "stdout",
     "output_type": "stream",
     "text": [
      "   similarityIndex  userId\n",
      "0             -1.0      18\n",
      "1             -1.0      19\n",
      "2              0.0      21\n",
      "3              1.0      27\n",
      "4              0.0      68\n"
     ]
    }
   ],
   "source": [
    "pearsonDF = pd.DataFrame.from_dict(pearsonCorrelationDict, orient='index')\n",
    "pearsonDF.columns = ['similarityIndex']\n",
    "pearsonDF['userId'] = pearsonDF.index\n",
    "pearsonDF['userId'] = pearsonDF['userId'].apply(func=lambda x : x[0])\n",
    "pearsonDF.index = range(len(pearsonDF))\n",
    "print(pearsonDF.head())"
   ]
  },
  {
   "cell_type": "code",
   "execution_count": 58,
   "metadata": {},
   "outputs": [
    {
     "name": "stdout",
     "output_type": "stream",
     "text": [
      "    similarityIndex  userId\n",
      "12              1.0     140\n",
      "24              1.0     232\n",
      "34              1.0     323\n",
      "58              1.0     534\n",
      "42              1.0     381\n"
     ]
    }
   ],
   "source": [
    "topUsers=pearsonDF.sort_values(by='similarityIndex', ascending=False)[0:50]\n",
    "print(topUsers.head())"
   ]
  },
  {
   "cell_type": "code",
   "execution_count": 60,
   "metadata": {},
   "outputs": [
    {
     "name": "stdout",
     "output_type": "stream",
     "text": [
      "    similarityIndex  userId  movieId  rating   timestamp\n",
      "0               1.0     140        1     3.0   942924980\n",
      "1               1.0     140        2     3.5  1085569813\n",
      "2               1.0     140        6     5.0   942843185\n",
      "3               1.0     140       11     4.0   949667337\n",
      "4               1.0     140       21     4.0   949666898\n",
      "..              ...     ...      ...     ...         ...\n",
      "95              1.0     140      912     4.0  1085569768\n",
      "96              1.0     140      914     4.0   942841652\n",
      "97              1.0     140      919     4.0  1085569784\n",
      "98              1.0     140      920     5.0  1055092887\n",
      "99              1.0     140      924     4.0  1021898943\n",
      "\n",
      "[100 rows x 5 columns]\n"
     ]
    }
   ],
   "source": [
    "topUsersRating=topUsers.merge(ratings_df, left_on='userId', right_on='userId', how='inner')\n",
    "print(topUsersRating.head(100))"
   ]
  },
  {
   "cell_type": "code",
   "execution_count": 61,
   "metadata": {},
   "outputs": [
    {
     "name": "stdout",
     "output_type": "stream",
     "text": [
      "   similarityIndex  userId  movieId  rating   timestamp  weightedRating\n",
      "0              1.0     140        1     3.0   942924980             3.0\n",
      "1              1.0     140        2     3.5  1085569813             3.5\n",
      "2              1.0     140        6     5.0   942843185             5.0\n",
      "3              1.0     140       11     4.0   949667337             4.0\n",
      "4              1.0     140       21     4.0   949666898             4.0\n"
     ]
    }
   ],
   "source": [
    "topUsersRating['weightedRating'] = topUsersRating['similarityIndex']*topUsersRating['rating']\n",
    "print(topUsersRating.head())"
   ]
  },
  {
   "cell_type": "code",
   "execution_count": 62,
   "metadata": {},
   "outputs": [
    {
     "name": "stdout",
     "output_type": "stream",
     "text": [
      "         sum_similarityIndex  sum_weightedRating\n",
      "movieId                                         \n",
      "1                       12.0                38.0\n",
      "2                       12.0                50.0\n",
      "3                        0.0                 0.0\n",
      "4                        1.0                 1.5\n",
      "5                        3.0                 9.5\n"
     ]
    }
   ],
   "source": [
    "tempTopUsersRating = topUsersRating.groupby('movieId').sum()[['similarityIndex','weightedRating']]\n",
    "tempTopUsersRating.columns = ['sum_similarityIndex','sum_weightedRating']\n",
    "print(tempTopUsersRating.head())"
   ]
  },
  {
   "cell_type": "code",
   "execution_count": 63,
   "metadata": {},
   "outputs": [
    {
     "name": "stdout",
     "output_type": "stream",
     "text": [
      "         weighted average recommendation score  movieId\n",
      "movieId                                                \n",
      "1                                     3.166667        1\n",
      "2                                     4.166667        2\n",
      "3                                          NaN        3\n",
      "4                                     1.500000        4\n",
      "5                                     3.166667        5\n",
      "6                                     3.833333        6\n",
      "7                                     3.500000        7\n",
      "8                                          NaN        8\n",
      "10                                    3.625000       10\n",
      "11                                    4.500000       11\n"
     ]
    }
   ],
   "source": [
    "recommendation_df = pd.DataFrame()\n",
    "\n",
    "#Now we take the weighted average\n",
    "recommendation_df['weighted average recommendation score'] = tempTopUsersRating['sum_weightedRating']/tempTopUsersRating['sum_similarityIndex']\n",
    "recommendation_df['movieId'] = tempTopUsersRating.index\n",
    "print(recommendation_df.head(10))"
   ]
  },
  {
   "cell_type": "code",
   "execution_count": 66,
   "metadata": {},
   "outputs": [
    {
     "name": "stdout",
     "output_type": "stream",
     "text": [
      "         weighted average recommendation score  movieId\n",
      "movieId                                                \n",
      "2936                                       5.0     2936\n",
      "1199                                       5.0     1199\n",
      "366                                        5.0      366\n",
      "4225                                       5.0     4225\n",
      "2565                                       5.0     2565\n",
      "...                                        ...      ...\n",
      "193579                                     NaN   193579\n",
      "193581                                     NaN   193581\n",
      "193583                                     NaN   193583\n",
      "193585                                     NaN   193585\n",
      "193587                                     NaN   193587\n",
      "\n",
      "[4404 rows x 2 columns]\n"
     ]
    }
   ],
   "source": [
    "recommendation_df = recommendation_df.sort_values(by='weighted average recommendation score', ascending=False)\n",
    "print(recommendation_df)"
   ]
  },
  {
   "cell_type": "code",
   "execution_count": 70,
   "metadata": {},
   "outputs": [
    {
     "name": "stdout",
     "output_type": "stream",
     "text": [
      "   movieId                               title                 genres\n",
      "2        3             Grumpier Old Men (1995)         Comedy|Romance\n",
      "3        4            Waiting to Exhale (1995)   Comedy|Drama|Romance\n",
      "4        5  Father of the Bride Part II (1995)                 Comedy\n",
      "5        6                         Heat (1995)  Action|Crime|Thriller\n",
      "6        7                      Sabrina (1995)         Comedy|Romance\n"
     ]
    }
   ],
   "source": [
    "recommended_movie=movies_df.loc[movies_df['movieId'].isin(recommendation_df['movieId'])]\n",
    "\n",
    "#we don't want to recommend the same movie\n",
    "recommended_movie=recommended_movie.loc[~recommended_movie.movieId.isin(userSubset['movieId'])]\n",
    "\n",
    "print(recommended_movie.head(5))"
   ]
  },
  {
   "cell_type": "code",
   "execution_count": null,
   "metadata": {},
   "outputs": [],
   "source": []
  }
 ],
 "metadata": {
  "kernelspec": {
   "display_name": "Python 3.11.5 64-bit",
   "language": "python",
   "name": "python3"
  },
  "language_info": {
   "codemirror_mode": {
    "name": "ipython",
    "version": 3
   },
   "file_extension": ".py",
   "mimetype": "text/x-python",
   "name": "python",
   "nbconvert_exporter": "python",
   "pygments_lexer": "ipython3",
   "version": "3.11.5"
  },
  "orig_nbformat": 4,
  "vscode": {
   "interpreter": {
    "hash": "aee8b7b246df8f9039afb4144a1f6fd8d2ca17a180786b69acc140d282b71a49"
   }
  }
 },
 "nbformat": 4,
 "nbformat_minor": 2
}
